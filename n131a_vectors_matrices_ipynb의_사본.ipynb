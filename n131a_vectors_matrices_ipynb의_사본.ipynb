{
  "nbformat": 4,
  "nbformat_minor": 0,
  "metadata": {
    "colab": {
      "name": "n131a-vectors-matrices.ipynb의 사본",
      "provenance": [],
      "collapsed_sections": [],
      "include_colab_link": true
    },
    "kernelspec": {
      "name": "python3",
      "display_name": "Python 3"
    }
  },
  "cells": [
    {
      "cell_type": "markdown",
      "metadata": {
        "id": "view-in-github",
        "colab_type": "text"
      },
      "source": [
        "<a href=\"https://colab.research.google.com/github/jihye-kim11/Sound-mechanic/blob/master/n131a_vectors_matrices_ipynb%EC%9D%98_%EC%82%AC%EB%B3%B8.ipynb\" target=\"_parent\"><img src=\"https://colab.research.google.com/assets/colab-badge.svg\" alt=\"Open In Colab\"/></a>"
      ]
    },
    {
      "cell_type": "markdown",
      "metadata": {
        "id": "Y7hxe5O-9ukJ"
      },
      "source": [
        "<img src='https://i.imgur.com/RDAD11M.png' width = '200' align = 'right'>\n",
        "\n",
        "## *DATA SCIENCE / SECTION 1 / SPRINT 3 / NOTE 1*\n",
        "\n",
        "# 📝 Assignment"
      ]
    },
    {
      "cell_type": "markdown",
      "metadata": {
        "id": "yXA3GwWhY9KL"
      },
      "source": [
        "# 1. Portfolio\n",
        "\n",
        "`Dot product` & `Matrix Multiplication` 을 이용하여 다음 포트폴리오의 사람별 총합을 계산하세요.\n",
        "- 결과는 `res`에 list형태로 저장합니다.\n",
        "\n",
        "|People|Name|Price|Amount|\n",
        "|:-:|:-:|:-:|:-:|\n",
        "|X|A|100|35|\n",
        "|X|B|500|10|\n",
        "|X|C|250|25|\n",
        "|X|D|50|40|\n",
        "|Y|A|100|-|\n",
        "|Y|B|500|50|\n",
        "|Y|C|250|50|\n",
        "|Y|D|50|-|\n",
        "|Z|A|100|-|\n",
        "|Z|B|500|-|\n",
        "|Z|C|250|100|\n",
        "|Z|D|50|-|\n",
        "\n"
      ]
    },
    {
      "cell_type": "code",
      "metadata": {
        "id": "EC4rsuLB1g_l",
        "colab": {
          "base_uri": "https://localhost:8080/",
          "height": 421
        },
        "outputId": "ab7002c2-0751-48e8-e56f-0cead61a1b55"
      },
      "source": [
        "import matplotlib.pyplot as plt\r\n",
        "import numpy as np\r\n",
        "import pandas as pd\r\n",
        "\r\n",
        "df = pd.DataFrame([\r\n",
        "    ['X','X','X','X','Y','Y','Y','Y','Z','Z','Z','Z'],\r\n",
        "    [100,500,250,50,100,500,250,50,100,500,250,50],\r\n",
        "    [35,10,25,40,0,50,50,0,0,0,100,0]],\r\n",
        "    index = ['people','price','amount']\r\n",
        ").T\r\n",
        "\r\n",
        "df"
      ],
      "execution_count": 3,
      "outputs": [
        {
          "output_type": "execute_result",
          "data": {
            "text/html": [
              "<div>\n",
              "<style scoped>\n",
              "    .dataframe tbody tr th:only-of-type {\n",
              "        vertical-align: middle;\n",
              "    }\n",
              "\n",
              "    .dataframe tbody tr th {\n",
              "        vertical-align: top;\n",
              "    }\n",
              "\n",
              "    .dataframe thead th {\n",
              "        text-align: right;\n",
              "    }\n",
              "</style>\n",
              "<table border=\"1\" class=\"dataframe\">\n",
              "  <thead>\n",
              "    <tr style=\"text-align: right;\">\n",
              "      <th></th>\n",
              "      <th>people</th>\n",
              "      <th>price</th>\n",
              "      <th>amount</th>\n",
              "    </tr>\n",
              "  </thead>\n",
              "  <tbody>\n",
              "    <tr>\n",
              "      <th>0</th>\n",
              "      <td>X</td>\n",
              "      <td>100</td>\n",
              "      <td>35</td>\n",
              "    </tr>\n",
              "    <tr>\n",
              "      <th>1</th>\n",
              "      <td>X</td>\n",
              "      <td>500</td>\n",
              "      <td>10</td>\n",
              "    </tr>\n",
              "    <tr>\n",
              "      <th>2</th>\n",
              "      <td>X</td>\n",
              "      <td>250</td>\n",
              "      <td>25</td>\n",
              "    </tr>\n",
              "    <tr>\n",
              "      <th>3</th>\n",
              "      <td>X</td>\n",
              "      <td>50</td>\n",
              "      <td>40</td>\n",
              "    </tr>\n",
              "    <tr>\n",
              "      <th>4</th>\n",
              "      <td>Y</td>\n",
              "      <td>100</td>\n",
              "      <td>0</td>\n",
              "    </tr>\n",
              "    <tr>\n",
              "      <th>5</th>\n",
              "      <td>Y</td>\n",
              "      <td>500</td>\n",
              "      <td>50</td>\n",
              "    </tr>\n",
              "    <tr>\n",
              "      <th>6</th>\n",
              "      <td>Y</td>\n",
              "      <td>250</td>\n",
              "      <td>50</td>\n",
              "    </tr>\n",
              "    <tr>\n",
              "      <th>7</th>\n",
              "      <td>Y</td>\n",
              "      <td>50</td>\n",
              "      <td>0</td>\n",
              "    </tr>\n",
              "    <tr>\n",
              "      <th>8</th>\n",
              "      <td>Z</td>\n",
              "      <td>100</td>\n",
              "      <td>0</td>\n",
              "    </tr>\n",
              "    <tr>\n",
              "      <th>9</th>\n",
              "      <td>Z</td>\n",
              "      <td>500</td>\n",
              "      <td>0</td>\n",
              "    </tr>\n",
              "    <tr>\n",
              "      <th>10</th>\n",
              "      <td>Z</td>\n",
              "      <td>250</td>\n",
              "      <td>100</td>\n",
              "    </tr>\n",
              "    <tr>\n",
              "      <th>11</th>\n",
              "      <td>Z</td>\n",
              "      <td>50</td>\n",
              "      <td>0</td>\n",
              "    </tr>\n",
              "  </tbody>\n",
              "</table>\n",
              "</div>"
            ],
            "text/plain": [
              "   people price amount\n",
              "0       X   100     35\n",
              "1       X   500     10\n",
              "2       X   250     25\n",
              "3       X    50     40\n",
              "4       Y   100      0\n",
              "5       Y   500     50\n",
              "6       Y   250     50\n",
              "7       Y    50      0\n",
              "8       Z   100      0\n",
              "9       Z   500      0\n",
              "10      Z   250    100\n",
              "11      Z    50      0"
            ]
          },
          "metadata": {
            "tags": []
          },
          "execution_count": 3
        }
      ]
    },
    {
      "cell_type": "code",
      "metadata": {
        "id": "Yra9wSpp2RJE",
        "colab": {
          "base_uri": "https://localhost:8080/"
        },
        "outputId": "3e0b1492-3e4e-4a20-95ac-0a793204cede"
      },
      "source": [
        "dfx=df[df['people'].isin(['X'])]\r\n",
        "dfy=df[df['people'].isin(['Y'])]\r\n",
        "dfz=df[df['people'].isin(['Z'])]\r\n",
        "res=[]\r\n",
        "res.append(np.dot(dfx['price'],dfx['amount']))\r\n",
        "res.append(np.dot(dfy['price'],dfy['amount']))\r\n",
        "res.append(np.dot(dfz['price'],dfz['amount']))\r\n",
        "res"
      ],
      "execution_count": 4,
      "outputs": [
        {
          "output_type": "execute_result",
          "data": {
            "text/plain": [
              "[16750, 37500, 25000]"
            ]
          },
          "metadata": {
            "tags": []
          },
          "execution_count": 4
        }
      ]
    },
    {
      "cell_type": "markdown",
      "metadata": {
        "id": "dMgAVgIuGe_B"
      },
      "source": [
        "# 2. Norms\n",
        "\n",
        "주어진 값 $x_0, x_1, ... x_n$ 를 element로 갖는 벡터 $v$에 대하여 \n",
        "\n",
        "$L_1$ Norm 의 정의는 다음과 같습니다. \n",
        "\n",
        "$|v| = |x_0| + |x_1| + ... + |x_n|$\n",
        "\n",
        "$L_2$ Norm 의 정의는 다음과 같습니다.\n",
        "\n",
        "$||v|| = \\sqrt {{x_0}^2 + {x_1}^2 + ... + {x_n}^2}$\n",
        "\n",
        "이를 참조하여 주어진 벡터에 대해서 $L_2$ Norm 의 값과 $L_1$ Norm 의 값의 차이(절대값)를 계산하는 함수를 만드세요.\n",
        "\n"
      ]
    },
    {
      "cell_type": "code",
      "metadata": {
        "id": "XrYfAExIGemC",
        "colab": {
          "base_uri": "https://localhost:8080/"
        },
        "outputId": "3d69714a-9081-48b6-9eb4-4e381dbd698f"
      },
      "source": [
        "import math\n",
        "import numpy as np\n",
        "def NormDif(v): # v = np.array()\n",
        "  l1=0\n",
        "  l2=0\n",
        "  for i in v:\n",
        "    l1+=abs(i)\n",
        "    l2+=abs(i)**2\n",
        "  l2=math.sqrt(l2)\n",
        "  return abs(l1-l2)\n",
        "  \n",
        "\n",
        "NormDif(np.array([1,-2,2]))"
      ],
      "execution_count": 20,
      "outputs": [
        {
          "output_type": "execute_result",
          "data": {
            "text/plain": [
              "2.0"
            ]
          },
          "metadata": {
            "tags": []
          },
          "execution_count": 20
        }
      ]
    },
    {
      "cell_type": "markdown",
      "metadata": {
        "id": "VBJHWdyalU4G"
      },
      "source": [
        "## 3. Errors\n",
        "\n",
        "\n",
        "\n",
        "- 2개의 벡터와, error의 타입을 입력받아 그 결과값을 계산하는 함수를 작성하세요.\n",
        "\n",
        "- 여기서 error의 타입은 `MSE`, `MAE` 2가지 입니다.\n",
        "\n"
      ]
    },
    {
      "cell_type": "code",
      "metadata": {
        "id": "LQy8_pEUHHDC",
        "colab": {
          "base_uri": "https://localhost:8080/"
        },
        "outputId": "3b9aa25d-ab5b-45a6-8fc3-1f934d91590b"
      },
      "source": [
        "#MSE: 실제 값과 예측 값의 차이를 제곱해 평균화\n",
        "#MAE:실제 값과 예측 값의 차이(Error)를 절대값으로 변환해 평균화\n",
        "from sklearn.metrics import mean_squared_error \n",
        "from sklearn.metrics import mean_absolute_error\n",
        "from fractions import Fraction\n",
        "def error(x, y, type) :\n",
        "  if type=='MSE':\n",
        "    return mean_squared_error(x, y)\n",
        "  else:\n",
        "    return mean_absolute_error(x, y)\n",
        "\n",
        "error(np.array([1, 2, 4]), np.array([3, 4, 3]), 'MSE')\n",
        "error(np.array([1, 2, 4]), np.array([3, 4, 3]), 'MAE')"
      ],
      "execution_count": 59,
      "outputs": [
        {
          "output_type": "execute_result",
          "data": {
            "text/plain": [
              "1.6666666666666667"
            ]
          },
          "metadata": {
            "tags": []
          },
          "execution_count": 59
        }
      ]
    },
    {
      "cell_type": "markdown",
      "metadata": {
        "id": "l2Teph_aS16e"
      },
      "source": [
        "# 4. Inverse\n",
        "\n",
        "- 주어진 matrix에 대해서 inverse matrix를 계산하여 반환하는 함수를 작성하세요. \n",
        "- 이 때 inverse 계산이 불가능 한 경우 `-1` 을 반환합니다."
      ]
    },
    {
      "cell_type": "code",
      "metadata": {
        "colab": {
          "base_uri": "https://localhost:8080/"
        },
        "id": "eICmMyYW-5dc",
        "outputId": "f9cb8b3b-706c-408f-9004-b4d5f9074c47"
      },
      "source": [
        "def myInverse(m) : # m = np.array()\r\n",
        "  return np.linalg.inv(m)\r\n",
        "myInverse(np.array([[1,2],[3,4]]))"
      ],
      "execution_count": 36,
      "outputs": [
        {
          "output_type": "execute_result",
          "data": {
            "text/plain": [
              "array([[-2. ,  1. ],\n",
              "       [ 1.5, -0.5]])"
            ]
          },
          "metadata": {
            "tags": []
          },
          "execution_count": 36
        }
      ]
    },
    {
      "cell_type": "markdown",
      "metadata": {
        "id": "j6znnEAIT_ru"
      },
      "source": [
        "## Grading\n",
        "\n",
        "이전 과제를 완료했다면, 아래의 코드를 실행하세요.\n",
        "\n"
      ]
    },
    {
      "cell_type": "code",
      "metadata": {
        "id": "gJUasCPIFJFZ"
      },
      "source": [
        "def grade(res, NormDif, error, myInverse):\n",
        "  score = 0\n",
        "  score += ((res == np.array([16750, 37500, 25000])).sum() == 3)\n",
        "  score += (NormDif(np.array([1, -2, 2])) == 2) #np.array([1, -2, 2]))로 변경 필요\n",
        "  score += (error(np.array([1, 2, 4]), np.array([3, 4, 3]), 'MSE') == 9/3)\n",
        "  score += (error(np.array([1, 2, 4]), np.array([3, 4, 3]), 'MAE') == 5/3)\n",
        "  score += np.allclose(myInverse(np.array([[1,2],[3,4]])), np.array([[-2, 1], [1.5, -0.5]]))\n",
        "  \n",
        "  return(score)"
      ],
      "execution_count": 55,
      "outputs": []
    },
    {
      "cell_type": "code",
      "metadata": {
        "id": "cFYfu7bRUGOJ",
        "colab": {
          "base_uri": "https://localhost:8080/"
        },
        "outputId": "1f26e05c-3731-4343-94e0-1370c91bb025"
      },
      "source": [
        "grade(res, NormDif, error, myInverse)"
      ],
      "execution_count": 60,
      "outputs": [
        {
          "output_type": "execute_result",
          "data": {
            "text/plain": [
              "5"
            ]
          },
          "metadata": {
            "tags": []
          },
          "execution_count": 60
        }
      ]
    },
    {
      "cell_type": "markdown",
      "metadata": {
        "id": "V0iTO4McYjtk"
      },
      "source": [
        "# 🔥 도전과제 \n",
        "\n"
      ]
    },
    {
      "cell_type": "markdown",
      "metadata": {
        "id": "3p45qAIGFTBZ"
      },
      "source": [
        "다음 링크의 내용을 참조하여 **Cramer's rule**을 사용해 $x_1$, $x_2$, $x_3$의 값을 구하세요.\n",
        "\n",
        "<https://youtu.be/6StS7VjtuGI>\n",
        "\n",
        "\n",
        "$x_1$ + $2x_3$ = 6\n",
        "\n",
        "$-3x_1$ + $4x_2$ + $6x3$ = 30\n",
        "\n",
        "$-x_1$ $-2x_2$ + $3x_3$ = 8\n",
        "\n"
      ]
    },
    {
      "cell_type": "code",
      "metadata": {
        "colab": {
          "base_uri": "https://localhost:8080/"
        },
        "id": "QaAeTxQ4BE4l",
        "outputId": "b6ed76cb-3407-49b2-ba67-5e8682a18933"
      },
      "source": [
        "#크래머 공식은 행렬식을 이용해 연립일차방정식을 푸는 방법\r\n",
        "import tensorflow as tf\r\n",
        "A=np.array([[1,0,2],[-3,4,6],[-1,-2,3]]) \r\n",
        "B=np.array([[6],[30],[8]]) #B는 역행렬이 아니다\r\n",
        "\r\n",
        "AT=int(np.linalg.det(A))\r\n",
        "A1=np.array([[6,0,2],[30,4,6],[8,-2,3]]) \r\n",
        "AT1=np.linalg.det(A1)\r\n",
        "A2=np.array([[1,6,2],[-3,30,6],[-1,8,3]]) \r\n",
        "AT2=np.linalg.det(A2)\r\n",
        "A3=np.array([[1,0,6],[-3,4,30],[-1,-2,8]]) \r\n",
        "AT3=np.linalg.det(A3)\r\n",
        "\r\n",
        "C=np.array([[AT1/AT,AT2/AT,AT3/AT]])\r\n",
        "\r\n",
        "print('x1:',C[0][0],'x2:',C[0][1],'x3:',C[0][2])\r\n"
      ],
      "execution_count": 79,
      "outputs": [
        {
          "output_type": "stream",
          "text": [
            "x1: -0.9090909090909091 x2: 1.6363636363636365 x3: 3.4545454545454546\n"
          ],
          "name": "stdout"
        }
      ]
    }
  ]
}